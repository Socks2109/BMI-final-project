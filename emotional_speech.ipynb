{
  "cells": [
    {
      "cell_type": "code",
      "execution_count": 10,
      "metadata": {
        "colab": {
          "base_uri": "https://localhost:8080/"
        },
        "id": "XPKZMTSSSivj",
        "outputId": "abdd1516-f6ca-4b12-d7b0-444bbfa080f9"
      },
      "outputs": [],
      "source": [
        "# Download dataset. This is not needed if you have the dataset already\n",
        "\n",
        "# import kagglehub\n",
        "\n",
        "# path = kagglehub.dataset_download(\"uwrfkaggler/ravdess-emotional-speech-audio\")\n",
        "\n",
        "# print(\"Path to dataset files:\", path)"
      ]
    },
    {
      "cell_type": "markdown",
      "metadata": {},
      "source": [
        "# Data Cleaning and Reformatting"
      ]
    },
    {
      "cell_type": "code",
      "execution_count": 11,
      "metadata": {
        "id": "SnlbjELrSivk",
        "outputId": "798e7ac8-364b-4ba1-caa3-c1601f3584bf"
      },
      "outputs": [
        {
          "name": "stdout",
          "output_type": "stream",
          "text": [
            "Sampling rate: 48000 Hz\n"
          ]
        }
      ],
      "source": [
        "# Function to check the sampling rate of a wav file and valid file path\n",
        "\n",
        "import wave\n",
        "import contextlib\n",
        "\n",
        "def check_sampling_rate(file_path):\n",
        "    try:\n",
        "        with contextlib.closing(wave.open(file_path, 'r')) as wav_file:\n",
        "            sample_rate = wav_file.getframerate()\n",
        "            print(f\"Sampling rate: {sample_rate} Hz\")\n",
        "    except Exception as e:\n",
        "        print(f\"Error: {e}\")\n",
        "\n",
        "file_path = 'data/ravdess-emotional-speech-audio/versions/1/Actor_01/03-01-01-01-01-01-01.wav'\n",
        "check_sampling_rate(file_path)"
      ]
    },
    {
      "cell_type": "code",
      "execution_count": 12,
      "metadata": {},
      "outputs": [],
      "source": [
        "import torch\n",
        "import torchaudio\n",
        "import torchaudio.functional as F\n",
        "import torchaudio.transforms as T\n",
        "\n",
        "import librosa\n",
        "import matplotlib.pyplot as plt"
      ]
    },
    {
      "cell_type": "code",
      "execution_count": 13,
      "metadata": {
        "id": "1l5AM4UkSivk",
        "outputId": "dba92514-0d9b-4bfc-c309-37cc31b2846f"
      },
      "outputs": [
        {
          "name": "stdout",
          "output_type": "stream",
          "text": [
            "      emotion                          file_path\n",
            "0       angry  Actor_16_03-01-05-01-02-01-16.wav\n",
            "1     fearful  Actor_16_03-01-06-01-02-02-16.wav\n",
            "2     fearful  Actor_16_03-01-06-02-01-02-16.wav\n",
            "3       angry  Actor_16_03-01-05-02-01-01-16.wav\n",
            "4     disgust  Actor_16_03-01-07-01-01-01-16.wav\n",
            "...       ...                                ...\n",
            "1435    happy  Actor_08_03-01-03-02-02-02-08.wav\n",
            "1436    happy  Actor_08_03-01-03-01-01-02-08.wav\n",
            "1437     calm  Actor_08_03-01-02-02-01-01-08.wav\n",
            "1438     calm  Actor_08_03-01-02-01-02-01-08.wav\n",
            "1439  neutral  Actor_08_03-01-01-01-02-02-08.wav\n",
            "\n",
            "[1440 rows x 2 columns]\n"
          ]
        }
      ],
      "source": [
        "\"\"\"\n",
        "File naming convention\n",
        "\n",
        "Each of the 1440 files has a unique filename. The filename consists of a 7-part numerical identifier (e.g., 03-01-06-01-02-01-12.wav). These identifiers define the stimulus characteristics:\n",
        "\n",
        "Filename identifiers\n",
        "\n",
        "Modality (01 = full-AV, 02 = video-only, 03 = audio-only).\n",
        "\n",
        "Vocal channel (01 = speech, 02 = song).\n",
        "\n",
        "Emotion (01 = neutral, 02 = calm, 03 = happy, 04 = sad, 05 = angry, 06 = fearful, 07 = disgust, 08 = surprised).\n",
        "\n",
        "Emotional intensity (01 = normal, 02 = strong). NOTE: There is no strong intensity for the 'neutral' emotion.\n",
        "\n",
        "Statement (01 = \"Kids are talking by the door\", 02 = \"Dogs are sitting by the door\").\n",
        "\n",
        "Repetition (01 = 1st repetition, 02 = 2nd repetition).\n",
        "\"\"\"\n",
        "\n",
        "\n",
        "import os\n",
        "import pandas as pd\n",
        "\n",
        "emotion_mapping = {\n",
        "    \"01\": \"neutral\",\n",
        "    \"02\": \"calm\",\n",
        "    \"03\": \"happy\",\n",
        "    \"04\": \"sad\",\n",
        "    \"05\": \"angry\",\n",
        "    \"06\": \"fearful\",\n",
        "    \"07\": \"disgust\",\n",
        "    \"08\": \"surprised\"\n",
        "}\n",
        "\n",
        "file_dir = \"data/ravdess-emotional-speech-audio/versions/1/\"\n",
        "\n",
        "data = []\n",
        "\n",
        "for actor in os.listdir(file_dir):\n",
        "    actor_path = os.path.join(file_dir, actor)\n",
        "    \n",
        "    if os.path.isdir(actor_path) and actor.startswith(\"Actor_\"):\n",
        "        actor_number = actor.split(\"_\")[-1]\n",
        "\n",
        "        for file in os.listdir(actor_path):\n",
        "            if file.endswith(\".wav\"):\n",
        "                emotion_code = file[6:8]\n",
        "                emotion = emotion_mapping.get(emotion_code, \"unknown\")\n",
        "                formatted_filename = f\"Actor_{actor_number}_{file}\"\n",
        "                data.append({\"emotion\": emotion, \"file_path\": formatted_filename})\n",
        "\n",
        "df = pd.DataFrame(data)\n",
        "\n",
        "print(df)"
      ]
    },
    {
      "cell_type": "code",
      "execution_count": 14,
      "metadata": {},
      "outputs": [],
      "source": [
        "#remove calm emotion\n",
        "df = df[df.emotion != 'calm']"
      ]
    },
    {
      "cell_type": "markdown",
      "metadata": {},
      "source": [
        "# Extracting waveforms and spectograms"
      ]
    },
    {
      "cell_type": "code",
      "execution_count": 15,
      "metadata": {
        "id": "vQvjb4mASivk"
      },
      "outputs": [],
      "source": [
        "from IPython.display import Audio\n",
        "from matplotlib.patches import Rectangle\n",
        "from torchaudio.utils import download_asset\n",
        "import torch\n",
        "import matplotlib.pyplot as plt\n",
        "\n",
        "torch.random.manual_seed(42)\n",
        "\n",
        "def plot_waveform(waveform, sr, title=None, ax=None):\n",
        "    waveform = waveform.numpy()\n",
        "\n",
        "    num_channels, num_frames = waveform.shape\n",
        "    time_axis = torch.arange(0, num_frames) / sr\n",
        "\n",
        "    if ax is None:\n",
        "        _, ax = plt.subplots(num_channels, 1)\n",
        "    ax.plot(time_axis, waveform[0], linewidth=1)\n",
        "    ax.set_xlim([0, time_axis[-1]])\n",
        "    ax.set_title(title)\n",
        "\n",
        "def plot_spectrogram(specgram, title=None, ylabel=\"freq_bin\", ax=None):\n",
        "    if ax is None:\n",
        "        _, ax = plt.subplots(1, 1)\n",
        "    if title is not None:\n",
        "        ax.set_title(title)\n",
        "    ax.imshow(librosa.power_to_db(specgram), origin=\"lower\", aspect=\"auto\", interpolation=\"nearest\")"
      ]
    },
    {
      "cell_type": "code",
      "execution_count": 16,
      "metadata": {},
      "outputs": [],
      "source": [
        "def pull_wave_and_spec():\n",
        "    base_dir = \"data/ravdess-emotional-speech-audio/versions/1\"\n",
        "    output_dir = \"speech\"\n",
        "\n",
        "    for actor in os.listdir(base_dir):\n",
        "        actor_path = os.path.join(base_dir, actor)\n",
        "        if os.path.isdir(actor_path) and actor.startswith(\"Actor_\"):\n",
        "            actor_num = int(actor.split(\"_\")[1])\n",
        "            if actor_num > 22: # change actor number here because it keeps crashing midway\n",
        "                print(f\"Processing {actor}...\")\n",
        "                for file in os.listdir(actor_path):\n",
        "                    if file.endswith(\".wav\"):\n",
        "                        SAMPLE_SPEECH = os.path.join(actor_path, file)\n",
        "                        SPEECH_WAVEFORM, SAMPLE_RATE = torchaudio.load(SAMPLE_SPEECH)\n",
        "\n",
        "                        # Define transform\n",
        "                        spectrogram = T.Spectrogram(n_fft=512)\n",
        "\n",
        "                        # Perform transform\n",
        "                        spec = spectrogram(SPEECH_WAVEFORM)\n",
        "                        \n",
        "                        fig, ax = plt.subplots()\n",
        "                        plot_waveform(SPEECH_WAVEFORM, SAMPLE_RATE, title=None, ax=ax)\n",
        "                        waveform_path = os.path.join(output_dir, f\"{actor}_{file}_waveform.png\")\n",
        "                        plt.savefig(waveform_path)\n",
        "                        plt.close(fig)\n",
        "\n",
        "                        # Create figure for spectrogram\n",
        "                        fig, ax = plt.subplots()\n",
        "                        plot_spectrogram(spec[0], title=None, ax=ax)\n",
        "                        spectrogram_path = os.path.join(output_dir, f\"{actor}_{file}_spectrogram.png\")\n",
        "                        plt.savefig(spectrogram_path)\n",
        "                        plt.close(fig)"
      ]
    },
    {
      "cell_type": "markdown",
      "metadata": {},
      "source": [
        "# Connecting speech waveforms and spectogram to pd dataframe"
      ]
    },
    {
      "cell_type": "code",
      "execution_count": 17,
      "metadata": {},
      "outputs": [
        {
          "name": "stdout",
          "output_type": "stream",
          "text": [
            "   emotion                          file_path  \\\n",
            "0    angry  Actor_16_03-01-05-01-02-01-16.wav   \n",
            "1  fearful  Actor_16_03-01-06-01-02-02-16.wav   \n",
            "2  fearful  Actor_16_03-01-06-02-01-02-16.wav   \n",
            "3    angry  Actor_16_03-01-05-02-01-01-16.wav   \n",
            "4  disgust  Actor_16_03-01-07-01-01-01-16.wav   \n",
            "\n",
            "                                  spectrogram_tensor  \n",
            "0  [[[tensor(1.), tensor(1.), tensor(1.), tensor(...  \n",
            "1  [[[tensor(1.), tensor(1.), tensor(1.), tensor(...  \n",
            "2  [[[tensor(1.), tensor(1.), tensor(1.), tensor(...  \n",
            "3  [[[tensor(1.), tensor(1.), tensor(1.), tensor(...  \n",
            "4  [[[tensor(1.), tensor(1.), tensor(1.), tensor(...  \n"
          ]
        }
      ],
      "source": [
        "import torchvision.transforms as transforms\n",
        "from PIL import Image\n",
        "\n",
        "# Define base path for spectrogram images\n",
        "image_dir = \"speech\"  # Directory where spectrogram images are stored\n",
        "\n",
        "# Define transformations (convert images to tensors)\n",
        "transform = transforms.Compose([\n",
        "    transforms.ToTensor(),  \n",
        "    transforms.Normalize(mean=[0.5], std=[0.5])  # Normalization (optional)\n",
        "])\n",
        "\n",
        "# Function to load spectrogram as tensor\n",
        "def load_spectrogram_tensor(file_path):\n",
        "    filename = os.path.basename(file_path)\n",
        "    spectrogram_img_path = os.path.join(image_dir, f\"{filename}_spectrogram.png\")  # Construct spectrogram path\n",
        "    \n",
        "    # Load image if it exists, else return None\n",
        "    if os.path.exists(spectrogram_img_path):\n",
        "        image = Image.open(spectrogram_img_path).convert(\"L\")  # Convert to grayscale\n",
        "        return transform(image)  # Convert to tensor\n",
        "    return None  # If file doesn't exist, return None\n",
        "\n",
        "# Apply function to extract spectrogram tensors\n",
        "df[\"spectrogram_tensor\"] = df[\"file_path\"].apply(load_spectrogram_tensor)\n",
        "\n",
        "# Display updated DataFrame\n",
        "print(df.head())\n"
      ]
    },
    {
      "cell_type": "code",
      "execution_count": 18,
      "metadata": {},
      "outputs": [
        {
          "name": "stdout",
          "output_type": "stream",
          "text": [
            "   emotion                          file_path  \\\n",
            "0    angry  Actor_16_03-01-05-01-02-01-16.wav   \n",
            "1  fearful  Actor_16_03-01-06-01-02-02-16.wav   \n",
            "2  fearful  Actor_16_03-01-06-02-01-02-16.wav   \n",
            "3    angry  Actor_16_03-01-05-02-01-01-16.wav   \n",
            "4  disgust  Actor_16_03-01-07-01-01-01-16.wav   \n",
            "\n",
            "                                  spectrogram_tensor  \\\n",
            "0  [[[tensor(1.), tensor(1.), tensor(1.), tensor(...   \n",
            "1  [[[tensor(1.), tensor(1.), tensor(1.), tensor(...   \n",
            "2  [[[tensor(1.), tensor(1.), tensor(1.), tensor(...   \n",
            "3  [[[tensor(1.), tensor(1.), tensor(1.), tensor(...   \n",
            "4  [[[tensor(1.), tensor(1.), tensor(1.), tensor(...   \n",
            "\n",
            "                                     waveform_tensor  \n",
            "0  [[[tensor(1.), tensor(1.), tensor(1.), tensor(...  \n",
            "1  [[[tensor(1.), tensor(1.), tensor(1.), tensor(...  \n",
            "2  [[[tensor(1.), tensor(1.), tensor(1.), tensor(...  \n",
            "3  [[[tensor(1.), tensor(1.), tensor(1.), tensor(...  \n",
            "4  [[[tensor(1.), tensor(1.), tensor(1.), tensor(...  \n"
          ]
        }
      ],
      "source": [
        "import torchvision.transforms as transforms\n",
        "from PIL import Image\n",
        "import os\n",
        "import pandas as pd\n",
        "\n",
        "# Define base path for waveform images\n",
        "image_dir = \"speech\"  # Directory where waveform images are stored\n",
        "\n",
        "# Define transformations (convert images to tensors)\n",
        "transform = transforms.Compose([\n",
        "    transforms.ToTensor(),  \n",
        "    transforms.Normalize(mean=[0.5], std=[0.5])  # Normalization (optional)\n",
        "])\n",
        "\n",
        "# Function to load waveform as tensor\n",
        "def load_waveform_tensor(file_path):\n",
        "    filename = os.path.basename(file_path)  # Extract filename (e.g., \"Actor_01_03-01-01-01-01-01-01.wav\")\n",
        "    waveform_img_path = os.path.join(image_dir, f\"{filename}_waveform.png\")  # Construct waveform path\n",
        "    \n",
        "    # Load image if it exists, else return None\n",
        "    if os.path.exists(waveform_img_path):\n",
        "        image = Image.open(waveform_img_path).convert(\"L\")  # Convert to grayscale\n",
        "        return transform(image)  # Convert to tensor\n",
        "    return None  # If file doesn't exist, return None\n",
        "\n",
        "# Apply function to extract waveform tensors\n",
        "df[\"waveform_tensor\"] = df[\"file_path\"].apply(load_waveform_tensor)\n",
        "\n",
        "# Display updated DataFrame\n",
        "print(df.head())"
      ]
    },
    {
      "cell_type": "markdown",
      "metadata": {},
      "source": [
        "# Creating the model"
      ]
    },
    {
      "cell_type": "code",
      "execution_count": null,
      "metadata": {},
      "outputs": [],
      "source": []
    },
    {
      "cell_type": "code",
      "execution_count": 19,
      "metadata": {},
      "outputs": [
        {
          "name": "stdout",
          "output_type": "stream",
          "text": [
            "torch.Size([1, 480, 640])\n",
            "torch.Size([1, 480, 640])\n"
          ]
        }
      ],
      "source": [
        "print(df.iloc[0, 2].shape)\n",
        "print(df.iloc[0, 3].shape)\n",
        "\n",
        "#combined = torch.cat([tensor1, tensor2], dim=0)"
      ]
    },
    {
      "cell_type": "code",
      "execution_count": 20,
      "metadata": {},
      "outputs": [],
      "source": [
        "from sklearn.model_selection import train_test_split\n",
        "\n",
        "train_df, test_df = train_test_split(df, test_size=0.2, stratify=df['emotion'], random_state=42)\n",
        "torch.manual_seed(42);"
      ]
    },
    {
      "cell_type": "code",
      "execution_count": 21,
      "metadata": {},
      "outputs": [
        {
          "data": {
            "text/plain": [
              "998"
            ]
          },
          "execution_count": 21,
          "metadata": {},
          "output_type": "execute_result"
        }
      ],
      "source": [
        "len(train_df)"
      ]
    },
    {
      "cell_type": "code",
      "execution_count": 22,
      "metadata": {},
      "outputs": [],
      "source": [
        "train_df.iloc[0]['spectrogram_tensor']\n",
        "\n",
        "emotion_to_num = {\n",
        "    \"neutral\": 0,\n",
        "    \"happy\": 1,\n",
        "    \"sad\": 2,\n",
        "    \"angry\": 3,\n",
        "    \"fearful\": 4,\n",
        "    \"disgust\": 5,\n",
        "    \"surprised\": 6\n",
        "}\n",
        "\n",
        "train_set = []\n",
        "test_set = []\n",
        "\n",
        "#create train set \n",
        "for i in range(len(train_df)):\n",
        "  #concat the spectogram and waveform tensors into one \n",
        "  combined = torch.cat([train_df.iloc[i]['spectrogram_tensor'], train_df.iloc[i]['waveform_tensor']], dim=0)\n",
        "  label_tensor = torch.tensor(emotion_to_num[train_df.iloc[i]['emotion']], dtype=torch.long)\n",
        "  #save to dataset \n",
        "  train_set.append((combined, label_tensor))\n",
        "\n",
        "#create test set \n",
        "for i in range(len(test_df)):\n",
        "  #concat the spectogram and waveform tensors into one \n",
        "  combined = torch.cat([test_df.iloc[i]['spectrogram_tensor'], test_df.iloc[i]['waveform_tensor']], dim=0)\n",
        "  label_tensor = torch.tensor(emotion_to_num[test_df.iloc[i]['emotion']], dtype=torch.long)\n",
        "  test_set.append((combined, label_tensor))\n",
        "  "
      ]
    },
    {
      "cell_type": "code",
      "execution_count": 32,
      "metadata": {},
      "outputs": [],
      "source": [
        "BATCH_SIZE = 32  # <-- Please change this as necessary\n",
        "NUM_WORKERS = 0  # <-- Use more workers for more CPU threads\n",
        "\n",
        "train_loader = torch.utils.data.DataLoader(\n",
        "    train_set,\n",
        "    batch_size=BATCH_SIZE,\n",
        "    shuffle=True,\n",
        "    num_workers=NUM_WORKERS)\n",
        "\n",
        "test_loader = torch.utils.data.DataLoader(\n",
        "    test_set,\n",
        "    batch_size=BATCH_SIZE,\n",
        "    shuffle=False,\n",
        "    num_workers=NUM_WORKERS)"
      ]
    },
    {
      "cell_type": "code",
      "execution_count": 23,
      "metadata": {},
      "outputs": [],
      "source": [
        "import torch\n",
        "import torch.nn as nn\n",
        "import torch.nn.functional as F\n",
        "\n",
        "class SimpleCNN(nn.Module):\n",
        "    def __init__(self):\n",
        "        super(SimpleCNN, self).__init__()\n",
        "        self.conv1 = nn.Conv2d(in_channels=2, out_channels=16, kernel_size=3, stride=1, padding=1)  # (16, 480, 640)\n",
        "        self.pool = nn.MaxPool2d(kernel_size=2, stride=2)  # (16, 240, 320)\n",
        "        self.fc1 = nn.Linear(16 * 240 * 320, 128)  # Hidden layer\n",
        "        self.fc2 = nn.Linear(128, 7)  # Output layer for 7 classes\n",
        "\n",
        "    def forward(self, x):\n",
        "        x = self.pool(F.relu(self.conv1(x)))  # Conv + ReLU + Pooling\n",
        "        x = torch.flatten(x, start_dim=1)  # Flatten for the FC layer\n",
        "        x = F.relu(self.fc1(x))  # Hidden layer\n",
        "        x = self.fc2(x)  # Output logits (no softmax needed before CrossEntropyLoss)\n",
        "        return x\n"
      ]
    },
    {
      "cell_type": "code",
      "execution_count": 24,
      "metadata": {},
      "outputs": [],
      "source": [
        "from tqdm import tqdm \n",
        "import numpy as np\n",
        "\n",
        "def train(train_loader, model, optimizer, criterion, n_epochs=10, **kwargs):\n",
        "    ### Define your training loop here\n",
        "    model.train()\n",
        "    losses = []\n",
        "    for i in tqdm(range(n_epochs)):\n",
        "          print(i)\n",
        "          batch_losses = []\n",
        "          for j, data in enumerate(train_loader, 0):  \n",
        "            \n",
        "            x_batch, y_batch = data\n",
        "            \n",
        "            optimizer.zero_grad()\n",
        "            \n",
        "            y_predictions = model(x_batch)\n",
        "            loss = criterion(y_predictions, y_batch)\n",
        "            loss.backward() \n",
        "            optimizer.step()\n",
        "            \n",
        "            batch_losses.append(loss.item())\n",
        "          \n",
        "          losses.append(np.mean(batch_losses))\n",
        "          print(\"Last loss: \" + str(losses[-1]))\n",
        "    return losses "
      ]
    },
    {
      "cell_type": "code",
      "execution_count": 33,
      "metadata": {},
      "outputs": [],
      "source": [
        "from torch import optim\n",
        "\n",
        "mymodel = SimpleCNN()\n",
        "criterion = nn.CrossEntropyLoss()\n",
        "optimizer = optim.Adam(mymodel.parameters(), lr=1e-3)"
      ]
    },
    {
      "cell_type": "code",
      "execution_count": 34,
      "metadata": {},
      "outputs": [
        {
          "name": "stderr",
          "output_type": "stream",
          "text": [
            "  0%|          | 0/5 [00:00<?, ?it/s]"
          ]
        },
        {
          "name": "stdout",
          "output_type": "stream",
          "text": [
            "0\n"
          ]
        },
        {
          "name": "stderr",
          "output_type": "stream",
          "text": [
            " 20%|██        | 1/5 [03:18<13:13, 198.26s/it]"
          ]
        },
        {
          "name": "stdout",
          "output_type": "stream",
          "text": [
            "Last loss: 72.27686069905758\n",
            "1\n"
          ]
        },
        {
          "name": "stderr",
          "output_type": "stream",
          "text": [
            " 40%|████      | 2/5 [06:02<08:54, 178.05s/it]"
          ]
        },
        {
          "name": "stdout",
          "output_type": "stream",
          "text": [
            "Last loss: 5.895802643150091\n",
            "2\n"
          ]
        },
        {
          "name": "stderr",
          "output_type": "stream",
          "text": [
            " 60%|██████    | 3/5 [08:37<05:35, 167.90s/it]"
          ]
        },
        {
          "name": "stdout",
          "output_type": "stream",
          "text": [
            "Last loss: 1.9237794429063797\n",
            "3\n"
          ]
        },
        {
          "name": "stderr",
          "output_type": "stream",
          "text": [
            " 80%|████████  | 4/5 [11:10<02:41, 161.98s/it]"
          ]
        },
        {
          "name": "stdout",
          "output_type": "stream",
          "text": [
            "Last loss: 1.945733454078436\n",
            "4\n"
          ]
        },
        {
          "name": "stderr",
          "output_type": "stream",
          "text": [
            "100%|██████████| 5/5 [13:45<00:00, 165.02s/it]"
          ]
        },
        {
          "name": "stdout",
          "output_type": "stream",
          "text": [
            "Last loss: 1.9475602507591248\n"
          ]
        },
        {
          "name": "stderr",
          "output_type": "stream",
          "text": [
            "\n"
          ]
        }
      ],
      "source": [
        "epochs = 5\n",
        "\n",
        "losses = train(train_loader, mymodel, optimizer, criterion, epochs)"
      ]
    },
    {
      "cell_type": "code",
      "execution_count": 35,
      "metadata": {},
      "outputs": [
        {
          "data": {
            "text/plain": [
              "[<matplotlib.lines.Line2D at 0x15247f7c0>]"
            ]
          },
          "execution_count": 35,
          "metadata": {},
          "output_type": "execute_result"
        },
        {
          "data": {
            "image/png": "[encoded data removed]",
            "text/plain": [
              "<Figure size 640x480 with 1 Axes>"
            ]
          },
          "metadata": {},
          "output_type": "display_data"
        }
      ],
      "source": [
        "from matplotlib import pyplot as plt \n",
        "\n",
        "\n",
        "plt.plot(np.arange(len(losses)), losses, label='Loss Plot', color='blue')"
      ]
    },
    {
      "cell_type": "code",
      "execution_count": 36,
      "metadata": {},
      "outputs": [],
      "source": [
        "def calculate_accuracy(model, dataloader):\n",
        "    correct = 0\n",
        "    total = 0\n",
        "\n",
        "    with torch.no_grad():  # We don't need gradients for evaluation\n",
        "        for images, labels in dataloader:\n",
        "            outputs = model(images)  # Get model predictions\n",
        "            _, predicted = torch.max(outputs, 1)  # Get the class with the highest score\n",
        "            total += labels.size(0)  # Increment the total number of samples\n",
        "            correct += (predicted == labels).sum().item()  # Count correct predictions\n",
        "\n",
        "    accuracy = 100 * correct / total  # Accuracy as a percentage\n",
        "    return accuracy\n"
      ]
    },
    {
      "cell_type": "code",
      "execution_count": null,
      "metadata": {},
      "outputs": [
        {
          "name": "stderr",
          "output_type": "stream",
          "text": [
            "2530.07s - Error when getting str with custom provider: <pydevd_plugins.extensions.types.pydevd_plugin_pandas_types.PandasDataFrameTypeResolveProvider object at 0x152636a90>.\n",
            "Traceback (most recent call last):\n",
            "  File \"/opt/miniconda3/envs/cdd203/lib/python3.8/site-packages/debugpy/_vendored/pydevd/_pydevd_bundle/pydevd_xml.py\", line 233, in str_from_providers\n",
            "    return self._get_str_from_provider(provider, o, context)\n",
            "  File \"/opt/miniconda3/envs/cdd203/lib/python3.8/site-packages/debugpy/_vendored/pydevd/_pydevd_bundle/pydevd_xml.py\", line 215, in _get_str_from_provider\n",
            "    return provider.get_str(o)\n",
            "  File \"/opt/miniconda3/envs/cdd203/lib/python3.8/site-packages/debugpy/_vendored/pydevd/pydevd_plugins/extensions/types/pydevd_plugin_pandas_types.py\", line 117, in get_str\n",
            "    return repr(df)\n",
            "  File \"/opt/miniconda3/envs/cdd203/lib/python3.8/site-packages/pandas/core/frame.py\", line 1094, in __repr__\n",
            "    return self.to_string(**repr_params)\n",
            "  File \"/opt/miniconda3/envs/cdd203/lib/python3.8/site-packages/pandas/core/frame.py\", line 1271, in to_string\n",
            "    return fmt.DataFrameRenderer(formatter).to_string(\n",
            "  File \"/opt/miniconda3/envs/cdd203/lib/python3.8/site-packages/pandas/io/formats/format.py\", line 1134, in to_string\n",
            "    string = string_formatter.to_string()\n",
            "  File \"/opt/miniconda3/envs/cdd203/lib/python3.8/site-packages/pandas/io/formats/string.py\", line 30, in to_string\n",
            "    text = self._get_string_representation()\n",
            "  File \"/opt/miniconda3/envs/cdd203/lib/python3.8/site-packages/pandas/io/formats/string.py\", line 45, in _get_string_representation\n",
            "    strcols = self._get_strcols()\n",
            "  File \"/opt/miniconda3/envs/cdd203/lib/python3.8/site-packages/pandas/io/formats/string.py\", line 36, in _get_strcols\n",
            "    strcols = self.fmt.get_strcols()\n",
            "  File \"/opt/miniconda3/envs/cdd203/lib/python3.8/site-packages/pandas/io/formats/format.py\", line 615, in get_strcols\n",
            "    strcols = self._get_strcols_without_index()\n",
            "  File \"/opt/miniconda3/envs/cdd203/lib/python3.8/site-packages/pandas/io/formats/format.py\", line 881, in _get_strcols_without_index\n",
            "    fmt_values = self.format_col(i)\n",
            "  File \"/opt/miniconda3/envs/cdd203/lib/python3.8/site-packages/pandas/io/formats/format.py\", line 895, in format_col\n",
            "    return format_array(\n",
            "  File \"/opt/miniconda3/envs/cdd203/lib/python3.8/site-packages/pandas/io/formats/format.py\", line 1330, in format_array\n",
            "    return fmt_obj.get_result()\n",
            "  File \"/opt/miniconda3/envs/cdd203/lib/python3.8/site-packages/pandas/io/formats/format.py\", line 1363, in get_result\n",
            "    fmt_values = self._format_strings()\n",
            "  File \"/opt/miniconda3/envs/cdd203/lib/python3.8/site-packages/pandas/io/formats/format.py\", line 1430, in _format_strings\n",
            "    fmt_values.append(f\" {_format(v)}\")\n",
            "  File \"/opt/miniconda3/envs/cdd203/lib/python3.8/site-packages/pandas/io/formats/format.py\", line 1410, in _format\n",
            "    return str(formatter(x))\n",
            "  File \"/opt/miniconda3/envs/cdd203/lib/python3.8/site-packages/pandas/io/formats/printing.py\", line 222, in pprint_thing\n",
            "    result = _pprint_seq(\n",
            "  File \"/opt/miniconda3/envs/cdd203/lib/python3.8/site-packages/pandas/io/formats/printing.py\", line 119, in _pprint_seq\n",
            "    r = [\n",
            "  File \"/opt/miniconda3/envs/cdd203/lib/python3.8/site-packages/pandas/io/formats/printing.py\", line 120, in <listcomp>\n",
            "    pprint_thing(next(s), _nest_lvl + 1, max_seq_items=max_seq_items, **kwds)\n",
            "  File \"/opt/miniconda3/envs/cdd203/lib/python3.8/site-packages/pandas/io/formats/printing.py\", line 222, in pprint_thing\n",
            "    result = _pprint_seq(\n",
            "  File \"/opt/miniconda3/envs/cdd203/lib/python3.8/site-packages/pandas/io/formats/printing.py\", line 119, in _pprint_seq\n",
            "    r = [\n",
            "  File \"/opt/miniconda3/envs/cdd203/lib/python3.8/site-packages/pandas/io/formats/printing.py\", line 120, in <listcomp>\n",
            "    pprint_thing(next(s), _nest_lvl + 1, max_seq_items=max_seq_items, **kwds)\n",
            "  File \"/opt/miniconda3/envs/cdd203/lib/python3.8/site-packages/pandas/io/formats/printing.py\", line 222, in pprint_thing\n",
            "    result = _pprint_seq(\n",
            "  File \"/opt/miniconda3/envs/cdd203/lib/python3.8/site-packages/pandas/io/formats/printing.py\", line 119, in _pprint_seq\n",
            "    r = [\n",
            "  File \"/opt/miniconda3/envs/cdd203/lib/python3.8/site-packages/pandas/io/formats/printing.py\", line 120, in <listcomp>\n",
            "    pprint_thing(next(s), _nest_lvl + 1, max_seq_items=max_seq_items, **kwds)\n",
            "  File \"/opt/miniconda3/envs/cdd203/lib/python3.8/site-packages/pandas/io/formats/printing.py\", line 232, in pprint_thing\n",
            "    result = as_escaped_string(thing)\n",
            "  File \"/opt/miniconda3/envs/cdd203/lib/python3.8/site-packages/pandas/io/formats/printing.py\", line 208, in as_escaped_string\n",
            "    result = str(thing)\n",
            "  File \"/opt/miniconda3/envs/cdd203/lib/python3.8/site-packages/torch/_tensor.py\", line 461, in __repr__\n",
            "    return torch._tensor_str._str(self, tensor_contents=tensor_contents)\n",
            "  File \"/opt/miniconda3/envs/cdd203/lib/python3.8/site-packages/torch/_tensor_str.py\", line 677, in _str\n",
            "    return _str_intern(self, tensor_contents=tensor_contents)\n",
            "  File \"/opt/miniconda3/envs/cdd203/lib/python3.8/site-packages/torch/_tensor_str.py\", line 575, in _str_intern\n",
            "    if self.numel() == 0 and not self.is_sparse:\n",
            "KeyboardInterrupt\n"
          ]
        }
      ],
      "source": [
        "accuracy = calculate_accuracy(mymodel, test_loader)\n",
        "print(f'Test Accuracy: {accuracy:.2f}%')\n"
      ]
    }
  ],
  "metadata": {
    "colab": {
      "provenance": []
    },
    "kernelspec": {
      "display_name": "cdd203",
      "language": "python",
      "name": "python3"
    },
    "language_info": {
      "codemirror_mode": {
        "name": "ipython",
        "version": 3
      },
      "file_extension": ".py",
      "mimetype": "text/x-python",
      "name": "python",
      "nbconvert_exporter": "python",
      "pygments_lexer": "ipython3",
      "version": "3.8.20"
    }
  },
  "nbformat": 4,
  "nbformat_minor": 0
}

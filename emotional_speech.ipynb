{
  "cells": [
    {
      "cell_type": "code",
      "execution_count": null,
      "metadata": {
        "id": "XPKZMTSSSivj",
        "outputId": "abdd1516-f6ca-4b12-d7b0-444bbfa080f9",
        "colab": {
          "base_uri": "https://localhost:8080/"
        }
      },
      "outputs": [
        {
          "output_type": "stream",
          "name": "stdout",
          "text": [
            "Downloading from https://www.kaggle.com/api/v1/datasets/download/uwrfkaggler/ravdess-emotional-speech-audio?dataset_version_number=1...\n"
          ]
        },
        {
          "output_type": "stream",
          "name": "stderr",
          "text": [
            "100%|██████████| 429M/429M [00:04<00:00, 109MB/s]"
          ]
        },
        {
          "output_type": "stream",
          "name": "stdout",
          "text": [
            "Extracting files...\n"
          ]
        },
        {
          "output_type": "stream",
          "name": "stderr",
          "text": [
            "\n"
          ]
        },
        {
          "output_type": "stream",
          "name": "stdout",
          "text": [
            "Path to dataset files: /root/.cache/kagglehub/datasets/uwrfkaggler/ravdess-emotional-speech-audio/versions/1\n"
          ]
        }
      ],
      "source": [
        "# Download dataset. This is not needed if you have the dataset already\n",
        "\n",
        "import kagglehub\n",
        "\n",
        "path = kagglehub.dataset_download(\"uwrfkaggler/ravdess-emotional-speech-audio\")\n",
        "\n",
        "print(\"Path to dataset files:\", path)"
      ]
    },
    {
      "cell_type": "code",
      "execution_count": null,
      "metadata": {
        "id": "SnlbjELrSivk",
        "outputId": "798e7ac8-364b-4ba1-caa3-c1601f3584bf"
      },
      "outputs": [
        {
          "name": "stdout",
          "output_type": "stream",
          "text": [
            "Sampling rate: 48000 Hz\n"
          ]
        }
      ],
      "source": [
        "# Function to check the sampling rate of a wav file and valid file path\n",
        "\n",
        "import wave\n",
        "import contextlib\n",
        "\n",
        "def check_sampling_rate(file_path):\n",
        "    try:\n",
        "        with contextlib.closing(wave.open(file_path, 'r')) as wav_file:\n",
        "            sample_rate = wav_file.getframerate()\n",
        "            print(f\"Sampling rate: {sample_rate} Hz\")\n",
        "    except Exception as e:\n",
        "        print(f\"Error: {e}\")\n",
        "\n",
        "# Example usage\n",
        "file_path = 'ravdess-emotional-speech-audio/versions/1/Actor_01/03-01-01-01-01-01-01.wav'\n",
        "check_sampling_rate(file_path)"
      ]
    },
    {
      "cell_type": "code",
      "execution_count": null,
      "metadata": {
        "id": "1l5AM4UkSivk",
        "outputId": "dba92514-0d9b-4bfc-c309-37cc31b2846f"
      },
      "outputs": [
        {
          "name": "stdout",
          "output_type": "stream",
          "text": [
            "        emotion                                          file_path\n",
            "0       neutral  ravdess-emotional-speech-audio/versions/1/Acto...\n",
            "1       neutral  ravdess-emotional-speech-audio/versions/1/Acto...\n",
            "2       neutral  ravdess-emotional-speech-audio/versions/1/Acto...\n",
            "3       neutral  ravdess-emotional-speech-audio/versions/1/Acto...\n",
            "4          calm  ravdess-emotional-speech-audio/versions/1/Acto...\n",
            "...         ...                                                ...\n",
            "1435  surprised  ravdess-emotional-speech-audio/versions/1/Acto...\n",
            "1436  surprised  ravdess-emotional-speech-audio/versions/1/Acto...\n",
            "1437  surprised  ravdess-emotional-speech-audio/versions/1/Acto...\n",
            "1438  surprised  ravdess-emotional-speech-audio/versions/1/Acto...\n",
            "1439  surprised  ravdess-emotional-speech-audio/versions/1/Acto...\n",
            "\n",
            "[1440 rows x 2 columns]\n"
          ]
        }
      ],
      "source": [
        "\"\"\"\n",
        "File naming convention\n",
        "\n",
        "Each of the 1440 files has a unique filename. The filename consists of a 7-part numerical identifier (e.g., 03-01-06-01-02-01-12.wav). These identifiers define the stimulus characteristics:\n",
        "\n",
        "Filename identifiers\n",
        "\n",
        "Modality (01 = full-AV, 02 = video-only, 03 = audio-only).\n",
        "\n",
        "Vocal channel (01 = speech, 02 = song).\n",
        "\n",
        "Emotion (01 = neutral, 02 = calm, 03 = happy, 04 = sad, 05 = angry, 06 = fearful, 07 = disgust, 08 = surprised).\n",
        "\n",
        "Emotional intensity (01 = normal, 02 = strong). NOTE: There is no strong intensity for the 'neutral' emotion.\n",
        "\n",
        "Statement (01 = \"Kids are talking by the door\", 02 = \"Dogs are sitting by the door\").\n",
        "\n",
        "Repetition (01 = 1st repetition, 02 = 2nd repetition).\n",
        "\"\"\"\n",
        "\n",
        "\n",
        "import os\n",
        "import pandas as pd\n",
        "\n",
        "emotion_mapping = {\n",
        "    \"01\": \"neutral\",\n",
        "    \"02\": \"calm\",\n",
        "    \"03\": \"happy\",\n",
        "    \"04\": \"sad\",\n",
        "    \"05\": \"angry\",\n",
        "    \"06\": \"fearful\",\n",
        "    \"07\": \"disgust\",\n",
        "    \"08\": \"surprised\"\n",
        "}\n",
        "\n",
        "file_dir = \"ravdess-emotional-speech-audio/versions/1/\"\n",
        "\n",
        "data = []\n",
        "\n",
        "for actor in os.listdir(file_dir):\n",
        "    actor_path = os.path.join(file_dir, actor)\n",
        "    if os.path.isdir(actor_path):\n",
        "        for file in os.listdir(actor_path):\n",
        "            if file.endswith(\".wav\"):\n",
        "                emotion_code = file[6:8]\n",
        "                emotion = emotion_mapping.get(emotion_code, \"unknown\")\n",
        "\n",
        "                file_path = os.path.join(actor_path, file)\n",
        "\n",
        "                data.append({\"emotion\": emotion, \"file_path\": file_path})\n",
        "\n",
        "df = pd.DataFrame(data)\n",
        "\n",
        "print(df)"
      ]
    },
    {
      "cell_type": "code",
      "execution_count": null,
      "metadata": {
        "id": "vQvjb4mASivk"
      },
      "outputs": [],
      "source": []
    }
  ],
  "metadata": {
    "kernelspec": {
      "display_name": "test",
      "language": "python",
      "name": "python3"
    },
    "language_info": {
      "codemirror_mode": {
        "name": "ipython",
        "version": 3
      },
      "file_extension": ".py",
      "mimetype": "text/x-python",
      "name": "python",
      "nbconvert_exporter": "python",
      "pygments_lexer": "ipython3",
      "version": "3.10.11"
    },
    "colab": {
      "provenance": []
    }
  },
  "nbformat": 4,
  "nbformat_minor": 0
}
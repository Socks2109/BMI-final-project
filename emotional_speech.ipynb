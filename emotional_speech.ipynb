{
 "cells": [
  {
   "cell_type": "code",
   "execution_count": 10,
   "metadata": {
    "colab": {
     "base_uri": "https://localhost:8080/"
    },
    "id": "XPKZMTSSSivj",
    "outputId": "abdd1516-f6ca-4b12-d7b0-444bbfa080f9"
   },
   "outputs": [],
   "source": [
    "# Download dataset. This is not needed if you have the dataset already\n",
    "\n",
    "# import kagglehub\n",
    "\n",
    "# path = kagglehub.dataset_download(\"uwrfkaggler/ravdess-emotional-speech-audio\")\n",
    "\n",
    "# print(\"Path to dataset files:\", path)"
   ]
  },
  {
   "cell_type": "markdown",
   "metadata": {},
   "source": [
    "# Data Cleaning and Reformatting"
   ]
  },
  {
   "cell_type": "code",
   "execution_count": 1,
   "metadata": {
    "id": "SnlbjELrSivk",
    "outputId": "798e7ac8-364b-4ba1-caa3-c1601f3584bf"
   },
   "outputs": [
    {
     "name": "stdout",
     "output_type": "stream",
     "text": [
      "Sampling rate: 48000 Hz\n"
     ]
    }
   ],
   "source": [
    "# Function to check the sampling rate of a wav file and valid file path\n",
    "\n",
    "import wave\n",
    "import contextlib\n",
    "\n",
    "def check_sampling_rate(file_path):\n",
    "    try:\n",
    "        with contextlib.closing(wave.open(file_path, 'r')) as wav_file:\n",
    "            sample_rate = wav_file.getframerate()\n",
    "            print(f\"Sampling rate: {sample_rate} Hz\")\n",
    "    except Exception as e:\n",
    "        print(f\"Error: {e}\")\n",
    "\n",
    "file_path = 'data/ravdess-emotional-speech-audio/versions/1/Actor_01/03-01-01-01-01-01-01.wav'\n",
    "check_sampling_rate(file_path)"
   ]
  },
  {
   "cell_type": "code",
   "execution_count": 3,
   "metadata": {},
   "outputs": [],
   "source": [
    "import torch\n",
    "import torchaudio\n",
    "import torchaudio.functional as F\n",
    "import torchaudio.transforms as T\n",
    "\n",
    "import librosa\n",
    "import matplotlib.pyplot as plt"
   ]
  },
  {
   "cell_type": "code",
   "execution_count": 4,
   "metadata": {
    "id": "1l5AM4UkSivk",
    "outputId": "dba92514-0d9b-4bfc-c309-37cc31b2846f"
   },
   "outputs": [
    {
     "name": "stdout",
     "output_type": "stream",
     "text": [
      "        emotion                          file_path\n",
      "0       disgust  Actor_24_03-01-07-01-02-01-24.wav\n",
      "1     surprised  Actor_24_03-01-08-02-01-01-24.wav\n",
      "2           sad  Actor_24_03-01-04-01-02-01-24.wav\n",
      "3         angry  Actor_24_03-01-05-01-01-01-24.wav\n",
      "4           sad  Actor_24_03-01-04-02-01-01-24.wav\n",
      "...         ...                                ...\n",
      "1435    neutral  Actor_07_03-01-01-01-01-01-07.wav\n",
      "1436      happy  Actor_07_03-01-03-02-01-02-07.wav\n",
      "1437    neutral  Actor_07_03-01-01-01-01-02-07.wav\n",
      "1438    disgust  Actor_07_03-01-07-02-01-02-07.wav\n",
      "1439       calm  Actor_07_03-01-02-02-01-01-07.wav\n",
      "\n",
      "[1440 rows x 2 columns]\n"
     ]
    }
   ],
   "source": [
    "\"\"\"\n",
    "File naming convention\n",
    "\n",
    "Each of the 1440 files has a unique filename. The filename consists of a 7-part numerical identifier (e.g., 03-01-06-01-02-01-12.wav). These identifiers define the stimulus characteristics:\n",
    "\n",
    "Filename identifiers\n",
    "\n",
    "Modality (01 = full-AV, 02 = video-only, 03 = audio-only).\n",
    "\n",
    "Vocal channel (01 = speech, 02 = song).\n",
    "\n",
    "Emotion (01 = neutral, 02 = calm, 03 = happy, 04 = sad, 05 = angry, 06 = fearful, 07 = disgust, 08 = surprised).\n",
    "\n",
    "Emotional intensity (01 = normal, 02 = strong). NOTE: There is no strong intensity for the 'neutral' emotion.\n",
    "\n",
    "Statement (01 = \"Kids are talking by the door\", 02 = \"Dogs are sitting by the door\").\n",
    "\n",
    "Repetition (01 = 1st repetition, 02 = 2nd repetition).\n",
    "\"\"\"\n",
    "\n",
    "\n",
    "import os\n",
    "import pandas as pd\n",
    "\n",
    "emotion_mapping = {\n",
    "    \"01\": \"neutral\",\n",
    "    \"02\": \"calm\",\n",
    "    \"03\": \"happy\",\n",
    "    \"04\": \"sad\",\n",
    "    \"05\": \"angry\",\n",
    "    \"06\": \"fearful\",\n",
    "    \"07\": \"disgust\",\n",
    "    \"08\": \"surprised\"\n",
    "}\n",
    "\n",
    "file_dir = \"data/ravdess-emotional-speech-audio/versions/1/\"\n",
    "\n",
    "data = []\n",
    "\n",
    "for actor in os.listdir(file_dir):\n",
    "    actor_path = os.path.join(file_dir, actor)\n",
    "    \n",
    "    if os.path.isdir(actor_path) and actor.startswith(\"Actor_\"):\n",
    "        actor_number = actor.split(\"_\")[-1]\n",
    "\n",
    "        for file in os.listdir(actor_path):\n",
    "            if file.endswith(\".wav\"):\n",
    "                emotion_code = file[6:8]\n",
    "                emotion = emotion_mapping.get(emotion_code, \"unknown\")\n",
    "                formatted_filename = f\"Actor_{actor_number}_{file}\"\n",
    "                data.append({\"emotion\": emotion, \"file_path\": formatted_filename})\n",
    "\n",
    "df = pd.DataFrame(data)\n",
    "\n",
    "print(df)"
   ]
  },
  {
   "cell_type": "code",
   "execution_count": 5,
   "metadata": {},
   "outputs": [],
   "source": [
    "#remove calm emotion\n",
    "df = df[df.emotion != 'calm']"
   ]
  },
  {
   "cell_type": "markdown",
   "metadata": {},
   "source": [
    "# Extracting waveforms and spectograms"
   ]
  },
  {
   "cell_type": "code",
   "execution_count": 6,
   "metadata": {
    "id": "vQvjb4mASivk"
   },
   "outputs": [],
   "source": [
    "from IPython.display import Audio\n",
    "from matplotlib.patches import Rectangle\n",
    "from torchaudio.utils import download_asset\n",
    "import torch\n",
    "import matplotlib.pyplot as plt\n",
    "\n",
    "torch.random.manual_seed(42)\n",
    "\n",
    "def plot_waveform(waveform, sr, title=None, ax=None):\n",
    "    waveform = waveform.numpy()\n",
    "\n",
    "    num_channels, num_frames = waveform.shape\n",
    "    time_axis = torch.arange(0, num_frames) / sr\n",
    "\n",
    "    if ax is None:\n",
    "        _, ax = plt.subplots(num_channels, 1)\n",
    "    ax.plot(time_axis, waveform[0], linewidth=1)\n",
    "    ax.set_xlim([0, time_axis[-1]])\n",
    "    ax.set_title(title)\n",
    "\n",
    "def plot_spectrogram(specgram, title=None, ylabel=\"freq_bin\", ax=None):\n",
    "    if ax is None:\n",
    "        _, ax = plt.subplots(1, 1)\n",
    "    if title is not None:\n",
    "        ax.set_title(title)\n",
    "    ax.imshow(librosa.power_to_db(specgram), origin=\"lower\", aspect=\"auto\", interpolation=\"nearest\")"
   ]
  },
  {
   "cell_type": "code",
   "execution_count": 7,
   "metadata": {},
   "outputs": [],
   "source": [
    "def pull_wave_and_spec():\n",
    "    base_dir = \"data/ravdess-emotional-speech-audio/versions/1\"\n",
    "    output_dir = \"speech\"\n",
    "\n",
    "    for actor in os.listdir(base_dir):\n",
    "        actor_path = os.path.join(base_dir, actor)\n",
    "        if os.path.isdir(actor_path) and actor.startswith(\"Actor_\"):\n",
    "            actor_num = int(actor.split(\"_\")[1])\n",
    "            if actor_num > 22: # change actor number here because it keeps crashing midway\n",
    "                print(f\"Processing {actor}...\")\n",
    "                for file in os.listdir(actor_path):\n",
    "                    if file.endswith(\".wav\"):\n",
    "                        SAMPLE_SPEECH = os.path.join(actor_path, file)\n",
    "                        SPEECH_WAVEFORM, SAMPLE_RATE = torchaudio.load(SAMPLE_SPEECH)\n",
    "\n",
    "                        # Define transform\n",
    "                        spectrogram = T.Spectrogram(n_fft=512)\n",
    "\n",
    "                        # Perform transform\n",
    "                        spec = spectrogram(SPEECH_WAVEFORM)\n",
    "                        \n",
    "                        fig, ax = plt.subplots()\n",
    "                        plot_waveform(SPEECH_WAVEFORM, SAMPLE_RATE, title=None, ax=ax)\n",
    "                        waveform_path = os.path.join(output_dir, f\"{actor}_{file}_waveform.png\")\n",
    "                        plt.savefig(waveform_path)\n",
    "                        plt.close(fig)\n",
    "\n",
    "                        # Create figure for spectrogram\n",
    "                        fig, ax = plt.subplots()\n",
    "                        plot_spectrogram(spec[0], title=None, ax=ax)\n",
    "                        spectrogram_path = os.path.join(output_dir, f\"{actor}_{file}_spectrogram.png\")\n",
    "                        plt.savefig(spectrogram_path)\n",
    "                        plt.close(fig)"
   ]
  },
  {
   "cell_type": "markdown",
   "metadata": {},
   "source": [
    "# Connecting speech waveforms and spectogram to pd dataframe"
   ]
  },
  {
   "cell_type": "code",
   "execution_count": 9,
   "metadata": {},
   "outputs": [
    {
     "name": "stdout",
     "output_type": "stream",
     "text": [
      "     emotion                          file_path  \\\n",
      "0    disgust  Actor_24_03-01-07-01-02-01-24.wav   \n",
      "1  surprised  Actor_24_03-01-08-02-01-01-24.wav   \n",
      "2        sad  Actor_24_03-01-04-01-02-01-24.wav   \n",
      "3      angry  Actor_24_03-01-05-01-01-01-24.wav   \n",
      "4        sad  Actor_24_03-01-04-02-01-01-24.wav   \n",
      "\n",
      "                                  spectrogram_tensor  \n",
      "0  [[[tensor(1.), tensor(1.), tensor(1.), tensor(...  \n",
      "1  [[[tensor(1.), tensor(1.), tensor(1.), tensor(...  \n",
      "2  [[[tensor(1.), tensor(1.), tensor(1.), tensor(...  \n",
      "3  [[[tensor(1.), tensor(1.), tensor(1.), tensor(...  \n",
      "4  [[[tensor(1.), tensor(1.), tensor(1.), tensor(...  \n"
     ]
    }
   ],
   "source": [
    "import torchvision.transforms as transforms\n",
    "from PIL import Image\n",
    "\n",
    "# Define base path for spectrogram images\n",
    "image_dir = \"speech\"  # Directory where spectrogram images are stored\n",
    "\n",
    "# Define transformations (convert images to tensors)\n",
    "transform = transforms.Compose([\n",
    "    transforms.ToTensor(),  \n",
    "    transforms.Normalize(mean=[0.5], std=[0.5])  # Normalization (optional)\n",
    "])\n",
    "\n",
    "# Function to load spectrogram as tensor\n",
    "def load_spectrogram_tensor(file_path):\n",
    "    filename = os.path.basename(file_path)\n",
    "    spectrogram_img_path = os.path.join(image_dir, f\"{filename}_spectrogram.png\")  # Construct spectrogram path\n",
    "    \n",
    "    # Load image if it exists, else return None\n",
    "    if os.path.exists(spectrogram_img_path):\n",
    "        image = Image.open(spectrogram_img_path).convert(\"L\")  # Convert to grayscale\n",
    "        return transform(image)  # Convert to tensor\n",
    "    return None  # If file doesn't exist, return None\n",
    "\n",
    "# Apply function to extract spectrogram tensors\n",
    "df[\"spectrogram_tensor\"] = df[\"file_path\"].apply(load_spectrogram_tensor)\n",
    "\n",
    "# Display updated DataFrame\n",
    "print(df.head())\n"
   ]
  },
  {
   "cell_type": "code",
   "execution_count": 10,
   "metadata": {},
   "outputs": [
    {
     "name": "stdout",
     "output_type": "stream",
     "text": [
      "     emotion                          file_path  \\\n",
      "0    disgust  Actor_24_03-01-07-01-02-01-24.wav   \n",
      "1  surprised  Actor_24_03-01-08-02-01-01-24.wav   \n",
      "2        sad  Actor_24_03-01-04-01-02-01-24.wav   \n",
      "3      angry  Actor_24_03-01-05-01-01-01-24.wav   \n",
      "4        sad  Actor_24_03-01-04-02-01-01-24.wav   \n",
      "\n",
      "                                  spectrogram_tensor  \\\n",
      "0  [[[tensor(1.), tensor(1.), tensor(1.), tensor(...   \n",
      "1  [[[tensor(1.), tensor(1.), tensor(1.), tensor(...   \n",
      "2  [[[tensor(1.), tensor(1.), tensor(1.), tensor(...   \n",
      "3  [[[tensor(1.), tensor(1.), tensor(1.), tensor(...   \n",
      "4  [[[tensor(1.), tensor(1.), tensor(1.), tensor(...   \n",
      "\n",
      "                                     waveform_tensor  \n",
      "0  [[[tensor(1.), tensor(1.), tensor(1.), tensor(...  \n",
      "1  [[[tensor(1.), tensor(1.), tensor(1.), tensor(...  \n",
      "2  [[[tensor(1.), tensor(1.), tensor(1.), tensor(...  \n",
      "3  [[[tensor(1.), tensor(1.), tensor(1.), tensor(...  \n",
      "4  [[[tensor(1.), tensor(1.), tensor(1.), tensor(...  \n"
     ]
    }
   ],
   "source": [
    "import torchvision.transforms as transforms\n",
    "from PIL import Image\n",
    "import os\n",
    "import pandas as pd\n",
    "\n",
    "# Define base path for waveform images\n",
    "image_dir = \"speech\"  # Directory where waveform images are stored\n",
    "\n",
    "# Define transformations (convert images to tensors)\n",
    "transform = transforms.Compose([\n",
    "    transforms.ToTensor(),  \n",
    "    transforms.Normalize(mean=[0.5], std=[0.5])  # Normalization (optional)\n",
    "])\n",
    "\n",
    "# Function to load waveform as tensor\n",
    "def load_waveform_tensor(file_path):\n",
    "    filename = os.path.basename(file_path)  # Extract filename (e.g., \"Actor_01_03-01-01-01-01-01-01.wav\")\n",
    "    waveform_img_path = os.path.join(image_dir, f\"{filename}_waveform.png\")  # Construct waveform path\n",
    "    \n",
    "    # Load image if it exists, else return None\n",
    "    if os.path.exists(waveform_img_path):\n",
    "        image = Image.open(waveform_img_path).convert(\"L\")  # Convert to grayscale\n",
    "        return transform(image)  # Convert to tensor\n",
    "    return None  # If file doesn't exist, return None\n",
    "\n",
    "# Apply function to extract waveform tensors\n",
    "df[\"waveform_tensor\"] = df[\"file_path\"].apply(load_waveform_tensor)\n",
    "\n",
    "# Display updated DataFrame\n",
    "print(df.head())"
   ]
  },
  {
   "cell_type": "markdown",
   "metadata": {},
   "source": [
    "# Creating the model"
   ]
  },
  {
   "cell_type": "code",
   "execution_count": 20,
   "metadata": {},
   "outputs": [
    {
     "name": "stdout",
     "output_type": "stream",
     "text": [
      "Using device: cuda\n"
     ]
    }
   ],
   "source": [
    "device = torch.device(\"cuda\" if torch.cuda.is_available() else \"cpu\")\n",
    "print(f\"Using device: {device}\")\n"
   ]
  },
  {
   "cell_type": "code",
   "execution_count": 77,
   "metadata": {},
   "outputs": [
    {
     "data": {
      "text/plain": [
       "emotion\n",
       "disgust      192\n",
       "surprised    192\n",
       "sad          192\n",
       "angry        192\n",
       "fearful      192\n",
       "happy        192\n",
       "neutral       96\n",
       "Name: count, dtype: int64"
      ]
     },
     "execution_count": 77,
     "metadata": {},
     "output_type": "execute_result"
    }
   ],
   "source": [
    "df['emotion'].value_counts()"
   ]
  },
  {
   "cell_type": "code",
   "execution_count": 11,
   "metadata": {},
   "outputs": [
    {
     "name": "stdout",
     "output_type": "stream",
     "text": [
      "torch.Size([1, 480, 640])\n",
      "torch.Size([1, 480, 640])\n"
     ]
    }
   ],
   "source": [
    "print(df.iloc[0, 2].shape)\n",
    "print(df.iloc[0, 3].shape)\n",
    "\n",
    "#combined = torch.cat([tensor1, tensor2], dim=0)"
   ]
  },
  {
   "cell_type": "code",
   "execution_count": 12,
   "metadata": {},
   "outputs": [],
   "source": [
    "from sklearn.model_selection import train_test_split\n",
    "\n",
    "train_df, test_df = train_test_split(df, test_size=0.2, stratify=df['emotion'], random_state=42)\n",
    "torch.manual_seed(42);"
   ]
  },
  {
   "cell_type": "code",
   "execution_count": 14,
   "metadata": {},
   "outputs": [],
   "source": [
    "train_df.iloc[0]['spectrogram_tensor']\n",
    "\n",
    "emotion_to_num = {\n",
    "    \"neutral\": 0,\n",
    "    \"happy\": 1,\n",
    "    \"sad\": 2,\n",
    "    \"angry\": 3,\n",
    "    \"fearful\": 4,\n",
    "    \"disgust\": 5,\n",
    "    \"surprised\": 6\n",
    "}\n",
    "\n",
    "train_set = []\n",
    "test_set = []\n",
    "\n",
    "#create train set \n",
    "for i in range(len(train_df)):\n",
    "  #concat the spectogram and waveform tensors into one \n",
    "  combined = torch.cat([train_df.iloc[i]['spectrogram_tensor'], train_df.iloc[i]['waveform_tensor']], dim=0)\n",
    "  label_tensor = torch.tensor(emotion_to_num[train_df.iloc[i]['emotion']], dtype=torch.long)\n",
    "  #save to dataset \n",
    "  train_set.append((combined, label_tensor))\n",
    "\n",
    "#create test set \n",
    "for i in range(len(test_df)):\n",
    "  #concat the spectogram and waveform tensors into one \n",
    "  combined = torch.cat([test_df.iloc[i]['spectrogram_tensor'], test_df.iloc[i]['waveform_tensor']], dim=0)\n",
    "  label_tensor = torch.tensor(emotion_to_num[test_df.iloc[i]['emotion']], dtype=torch.long)\n",
    "  test_set.append((combined, label_tensor))\n",
    "  "
   ]
  },
  {
   "cell_type": "code",
   "execution_count": 98,
   "metadata": {},
   "outputs": [],
   "source": [
    "BATCH_SIZE = 16  # <-- Please change this as necessary\n",
    "NUM_WORKERS = 4  # <-- Use more workers for more CPU threads\n",
    "\n",
    "train_loader = torch.utils.data.DataLoader(\n",
    "    train_set,\n",
    "    batch_size=BATCH_SIZE,\n",
    "    shuffle=True,\n",
    "    num_workers=NUM_WORKERS)\n",
    "\n",
    "test_loader = torch.utils.data.DataLoader(\n",
    "    test_set,\n",
    "    batch_size=BATCH_SIZE,\n",
    "    shuffle=False,\n",
    "    num_workers=NUM_WORKERS)"
   ]
  },
  {
   "cell_type": "code",
   "execution_count": 99,
   "metadata": {},
   "outputs": [],
   "source": [
    "import torch\n",
    "import torch.nn as nn\n",
    "import torch.nn.functional as F\n",
    "\n",
    "class SimpleCNN(nn.Module):\n",
    "    def __init__(self):\n",
    "        super(SimpleCNN, self).__init__()\n",
    "        self.conv1 = nn.Conv2d(in_channels=2, out_channels=16, kernel_size=3, stride=1, padding=1)\n",
    "        self.conv2 = nn.Conv2d(in_channels=16, out_channels=32, kernel_size=3, stride=1, padding=1)\n",
    "        self.pool = nn.MaxPool2d(kernel_size=2, stride=2)\n",
    "        self.fc1 = nn.Linear(32 * 120 * 160, 128)  # Fixed input size\n",
    "        self.fc2 = nn.Linear(128, 7)\n",
    "        self.dropout = nn.Dropout(p=0.5)\n",
    "\n",
    "    def forward(self, x):\n",
    "        x = self.pool(F.relu(self.conv1(x)))  # Conv + ReLU + Pooling\n",
    "        x = self.pool(F.relu(self.conv2(x)))  # Conv + ReLU + Pooling\n",
    "        x = torch.flatten(x, start_dim=1)  # Flatten for the FC layer\n",
    "        x = F.relu(self.fc1(x))  # Hidden layer\n",
    "        x = self.dropout(x)  # Apply dropout after the fully connected layer\n",
    "        x = self.fc2(x)  # Output logits (no softmax needed before CrossEntropyLoss)\n",
    "        return x\n"
   ]
  },
  {
   "cell_type": "code",
   "execution_count": 103,
   "metadata": {},
   "outputs": [],
   "source": [
    "from tqdm import tqdm \n",
    "import numpy as np\n",
    "\n",
    "def train(train_loader, model, optimizer, criterion, n_epochs=10, **kwargs):\n",
    "    ### Define your training loop here\n",
    "    model.train()\n",
    "    losses = []\n",
    "    for i in tqdm(range(n_epochs)):\n",
    "          print(i)\n",
    "          batch_losses = []\n",
    "          correct = 0  \n",
    "          total = 0\n",
    "          lastepoch_loss = 0\n",
    "        \n",
    "          for j, data in enumerate(train_loader, 0):  \n",
    "            \n",
    "            x_batch, y_batch = data\n",
    "            x_batch, y_batch = x_batch.to(device), y_batch.to(device)  \n",
    "            \n",
    "            optimizer.zero_grad()\n",
    "            \n",
    "            y_predictions = model(x_batch)\n",
    "            loss = criterion(y_predictions, y_batch)\n",
    "            loss.backward() \n",
    "            optimizer.step()\n",
    "            \n",
    "            batch_losses.append(loss.item())\n",
    "              \n",
    "            _, predicted = torch.max(y_predictions, 1)  # Get class with highest score\n",
    "            correct += (predicted == y_batch).sum().item()\n",
    "            total += y_batch.size(0)\n",
    "\n",
    "          epoch_loss = np.mean(batch_losses)\n",
    "          losses.append(epoch_loss)\n",
    "          epoch_accuracy = 100 * correct / total\n",
    "\n",
    "          print(f\"Train Loss: {losses[-1]:.4f} | Train Accuracy: {epoch_accuracy:.2f}%\\n\")\n",
    "\n",
    "          #break out of for loop if the loss is not improving significantly \n",
    "          if abs(lastepoch_loss-epoch_loss) < 0.01: \n",
    "              print(\"stopping early\")\n",
    "              break\n",
    "          lastepoch_loss = epoch_loss \n",
    "        \n",
    "    return losses "
   ]
  },
  {
   "cell_type": "code",
   "execution_count": 104,
   "metadata": {},
   "outputs": [],
   "source": [
    "from torch import optim\n",
    "\n",
    "mymodel = SimpleCNN().to(device)\n",
    "criterion = nn.CrossEntropyLoss()\n",
    "optimizer = optim.Adam(mymodel.parameters(), lr=1e-3, weight_decay=1e-5)"
   ]
  },
  {
   "cell_type": "code",
   "execution_count": 105,
   "metadata": {
    "scrolled": true
   },
   "outputs": [
    {
     "name": "stderr",
     "output_type": "stream",
     "text": [
      "  0%|          | 0/50 [00:00<?, ?it/s]"
     ]
    },
    {
     "name": "stdout",
     "output_type": "stream",
     "text": [
      "0\n"
     ]
    },
    {
     "name": "stderr",
     "output_type": "stream",
     "text": [
      "  2%|▏         | 1/50 [00:06<05:28,  6.71s/it]"
     ]
    },
    {
     "name": "stdout",
     "output_type": "stream",
     "text": [
      "Train Loss: 3.2655 | Train Accuracy: 13.93%\n",
      "\n",
      "1\n"
     ]
    },
    {
     "name": "stderr",
     "output_type": "stream",
     "text": [
      "  4%|▍         | 2/50 [00:13<05:25,  6.78s/it]"
     ]
    },
    {
     "name": "stdout",
     "output_type": "stream",
     "text": [
      "Train Loss: 1.9369 | Train Accuracy: 15.33%\n",
      "\n",
      "2\n"
     ]
    },
    {
     "name": "stderr",
     "output_type": "stream",
     "text": [
      "  6%|▌         | 3/50 [00:20<05:15,  6.72s/it]"
     ]
    },
    {
     "name": "stdout",
     "output_type": "stream",
     "text": [
      "Train Loss: 1.9204 | Train Accuracy: 18.74%\n",
      "\n",
      "3\n"
     ]
    },
    {
     "name": "stderr",
     "output_type": "stream",
     "text": [
      "  8%|▊         | 4/50 [00:26<05:10,  6.75s/it]"
     ]
    },
    {
     "name": "stdout",
     "output_type": "stream",
     "text": [
      "Train Loss: 1.8610 | Train Accuracy: 24.45%\n",
      "\n",
      "4\n"
     ]
    },
    {
     "name": "stderr",
     "output_type": "stream",
     "text": [
      " 10%|█         | 5/50 [00:33<05:04,  6.76s/it]"
     ]
    },
    {
     "name": "stdout",
     "output_type": "stream",
     "text": [
      "Train Loss: 1.7601 | Train Accuracy: 31.86%\n",
      "\n",
      "5\n"
     ]
    },
    {
     "name": "stderr",
     "output_type": "stream",
     "text": [
      " 12%|█▏        | 6/50 [00:40<04:57,  6.77s/it]"
     ]
    },
    {
     "name": "stdout",
     "output_type": "stream",
     "text": [
      "Train Loss: 1.6155 | Train Accuracy: 35.77%\n",
      "\n",
      "6\n"
     ]
    },
    {
     "name": "stderr",
     "output_type": "stream",
     "text": [
      " 14%|█▍        | 7/50 [00:47<04:49,  6.74s/it]"
     ]
    },
    {
     "name": "stdout",
     "output_type": "stream",
     "text": [
      "Train Loss: 1.4664 | Train Accuracy: 42.99%\n",
      "\n",
      "7\n"
     ]
    },
    {
     "name": "stderr",
     "output_type": "stream",
     "text": [
      " 16%|█▌        | 8/50 [00:53<04:43,  6.75s/it]"
     ]
    },
    {
     "name": "stdout",
     "output_type": "stream",
     "text": [
      "Train Loss: 1.4064 | Train Accuracy: 45.29%\n",
      "\n",
      "8\n"
     ]
    },
    {
     "name": "stderr",
     "output_type": "stream",
     "text": [
      " 18%|█▊        | 9/50 [01:00<04:35,  6.73s/it]"
     ]
    },
    {
     "name": "stdout",
     "output_type": "stream",
     "text": [
      "Train Loss: 1.3184 | Train Accuracy: 47.09%\n",
      "\n",
      "9\n"
     ]
    },
    {
     "name": "stderr",
     "output_type": "stream",
     "text": [
      " 20%|██        | 10/50 [01:07<04:29,  6.73s/it]"
     ]
    },
    {
     "name": "stdout",
     "output_type": "stream",
     "text": [
      "Train Loss: 1.1531 | Train Accuracy: 57.72%\n",
      "\n",
      "10\n"
     ]
    },
    {
     "name": "stderr",
     "output_type": "stream",
     "text": [
      " 22%|██▏       | 11/50 [01:14<04:23,  6.76s/it]"
     ]
    },
    {
     "name": "stdout",
     "output_type": "stream",
     "text": [
      "Train Loss: 1.0525 | Train Accuracy: 59.52%\n",
      "\n",
      "11\n"
     ]
    },
    {
     "name": "stderr",
     "output_type": "stream",
     "text": [
      " 24%|██▍       | 12/50 [01:21<04:17,  6.77s/it]"
     ]
    },
    {
     "name": "stdout",
     "output_type": "stream",
     "text": [
      "Train Loss: 0.9368 | Train Accuracy: 62.83%\n",
      "\n",
      "12\n"
     ]
    },
    {
     "name": "stderr",
     "output_type": "stream",
     "text": [
      " 26%|██▌       | 13/50 [01:27<04:09,  6.74s/it]"
     ]
    },
    {
     "name": "stdout",
     "output_type": "stream",
     "text": [
      "Train Loss: 0.8815 | Train Accuracy: 66.63%\n",
      "\n",
      "13\n"
     ]
    },
    {
     "name": "stderr",
     "output_type": "stream",
     "text": [
      " 28%|██▊       | 14/50 [01:34<04:03,  6.76s/it]"
     ]
    },
    {
     "name": "stdout",
     "output_type": "stream",
     "text": [
      "Train Loss: 0.7956 | Train Accuracy: 70.24%\n",
      "\n",
      "14\n"
     ]
    },
    {
     "name": "stderr",
     "output_type": "stream",
     "text": [
      " 30%|███       | 15/50 [01:41<03:57,  6.79s/it]"
     ]
    },
    {
     "name": "stdout",
     "output_type": "stream",
     "text": [
      "Train Loss: 0.6836 | Train Accuracy: 72.34%\n",
      "\n",
      "15\n"
     ]
    },
    {
     "name": "stderr",
     "output_type": "stream",
     "text": [
      " 32%|███▏      | 16/50 [01:48<03:50,  6.79s/it]"
     ]
    },
    {
     "name": "stdout",
     "output_type": "stream",
     "text": [
      "Train Loss: 0.6063 | Train Accuracy: 76.55%\n",
      "\n",
      "16\n"
     ]
    },
    {
     "name": "stderr",
     "output_type": "stream",
     "text": [
      " 34%|███▍      | 17/50 [01:54<03:43,  6.78s/it]"
     ]
    },
    {
     "name": "stdout",
     "output_type": "stream",
     "text": [
      "Train Loss: 0.5463 | Train Accuracy: 78.56%\n",
      "\n",
      "17\n"
     ]
    },
    {
     "name": "stderr",
     "output_type": "stream",
     "text": [
      " 36%|███▌      | 18/50 [02:01<03:37,  6.78s/it]"
     ]
    },
    {
     "name": "stdout",
     "output_type": "stream",
     "text": [
      "Train Loss: 0.5414 | Train Accuracy: 79.46%\n",
      "\n",
      "18\n"
     ]
    },
    {
     "name": "stderr",
     "output_type": "stream",
     "text": [
      " 38%|███▊      | 19/50 [02:08<03:29,  6.75s/it]"
     ]
    },
    {
     "name": "stdout",
     "output_type": "stream",
     "text": [
      "Train Loss: 0.4682 | Train Accuracy: 80.36%\n",
      "\n",
      "19\n"
     ]
    },
    {
     "name": "stderr",
     "output_type": "stream",
     "text": [
      " 40%|████      | 20/50 [02:15<03:22,  6.76s/it]"
     ]
    },
    {
     "name": "stdout",
     "output_type": "stream",
     "text": [
      "Train Loss: 0.4582 | Train Accuracy: 80.56%\n",
      "\n",
      "20\n"
     ]
    },
    {
     "name": "stderr",
     "output_type": "stream",
     "text": [
      " 42%|████▏     | 21/50 [02:21<03:16,  6.77s/it]"
     ]
    },
    {
     "name": "stdout",
     "output_type": "stream",
     "text": [
      "Train Loss: 0.4334 | Train Accuracy: 81.66%\n",
      "\n",
      "21\n"
     ]
    },
    {
     "name": "stderr",
     "output_type": "stream",
     "text": [
      " 44%|████▍     | 22/50 [02:28<03:09,  6.78s/it]"
     ]
    },
    {
     "name": "stdout",
     "output_type": "stream",
     "text": [
      "Train Loss: 0.4218 | Train Accuracy: 83.17%\n",
      "\n",
      "22\n"
     ]
    },
    {
     "name": "stderr",
     "output_type": "stream",
     "text": [
      " 46%|████▌     | 23/50 [02:35<03:03,  6.78s/it]"
     ]
    },
    {
     "name": "stdout",
     "output_type": "stream",
     "text": [
      "Train Loss: 0.4300 | Train Accuracy: 82.67%\n",
      "\n",
      "23\n"
     ]
    },
    {
     "name": "stderr",
     "output_type": "stream",
     "text": [
      " 48%|████▊     | 24/50 [02:42<02:56,  6.81s/it]"
     ]
    },
    {
     "name": "stdout",
     "output_type": "stream",
     "text": [
      "Train Loss: 0.3726 | Train Accuracy: 84.77%\n",
      "\n",
      "24\n"
     ]
    },
    {
     "name": "stderr",
     "output_type": "stream",
     "text": [
      " 50%|█████     | 25/50 [02:49<02:49,  6.77s/it]"
     ]
    },
    {
     "name": "stdout",
     "output_type": "stream",
     "text": [
      "Train Loss: 0.3902 | Train Accuracy: 83.37%\n",
      "\n",
      "25\n"
     ]
    },
    {
     "name": "stderr",
     "output_type": "stream",
     "text": [
      " 52%|█████▏    | 26/50 [02:55<02:42,  6.77s/it]"
     ]
    },
    {
     "name": "stdout",
     "output_type": "stream",
     "text": [
      "Train Loss: 0.3273 | Train Accuracy: 85.97%\n",
      "\n",
      "26\n"
     ]
    },
    {
     "name": "stderr",
     "output_type": "stream",
     "text": [
      " 54%|█████▍    | 27/50 [03:02<02:35,  6.76s/it]"
     ]
    },
    {
     "name": "stdout",
     "output_type": "stream",
     "text": [
      "Train Loss: 0.3324 | Train Accuracy: 86.87%\n",
      "\n",
      "27\n"
     ]
    },
    {
     "name": "stderr",
     "output_type": "stream",
     "text": [
      " 56%|█████▌    | 28/50 [03:09<02:28,  6.77s/it]"
     ]
    },
    {
     "name": "stdout",
     "output_type": "stream",
     "text": [
      "Train Loss: 0.3292 | Train Accuracy: 86.27%\n",
      "\n",
      "28\n"
     ]
    },
    {
     "name": "stderr",
     "output_type": "stream",
     "text": [
      " 58%|█████▊    | 29/50 [03:16<02:21,  6.76s/it]"
     ]
    },
    {
     "name": "stdout",
     "output_type": "stream",
     "text": [
      "Train Loss: 0.3054 | Train Accuracy: 87.37%\n",
      "\n",
      "29\n"
     ]
    },
    {
     "name": "stderr",
     "output_type": "stream",
     "text": [
      " 60%|██████    | 30/50 [03:22<02:15,  6.76s/it]"
     ]
    },
    {
     "name": "stdout",
     "output_type": "stream",
     "text": [
      "Train Loss: 0.2607 | Train Accuracy: 88.58%\n",
      "\n",
      "30\n"
     ]
    },
    {
     "name": "stderr",
     "output_type": "stream",
     "text": [
      " 62%|██████▏   | 31/50 [03:29<02:08,  6.78s/it]"
     ]
    },
    {
     "name": "stdout",
     "output_type": "stream",
     "text": [
      "Train Loss: 0.2940 | Train Accuracy: 87.98%\n",
      "\n",
      "31\n"
     ]
    },
    {
     "name": "stderr",
     "output_type": "stream",
     "text": [
      " 64%|██████▍   | 32/50 [03:36<02:01,  6.75s/it]"
     ]
    },
    {
     "name": "stdout",
     "output_type": "stream",
     "text": [
      "Train Loss: 0.2660 | Train Accuracy: 88.28%\n",
      "\n",
      "32\n"
     ]
    },
    {
     "name": "stderr",
     "output_type": "stream",
     "text": [
      " 66%|██████▌   | 33/50 [03:43<01:54,  6.76s/it]"
     ]
    },
    {
     "name": "stdout",
     "output_type": "stream",
     "text": [
      "Train Loss: 0.2802 | Train Accuracy: 87.98%\n",
      "\n",
      "33\n"
     ]
    },
    {
     "name": "stderr",
     "output_type": "stream",
     "text": [
      " 68%|██████▊   | 34/50 [03:49<01:47,  6.73s/it]"
     ]
    },
    {
     "name": "stdout",
     "output_type": "stream",
     "text": [
      "Train Loss: 0.2718 | Train Accuracy: 88.58%\n",
      "\n",
      "34\n"
     ]
    },
    {
     "name": "stderr",
     "output_type": "stream",
     "text": [
      " 70%|███████   | 35/50 [03:56<01:40,  6.73s/it]"
     ]
    },
    {
     "name": "stdout",
     "output_type": "stream",
     "text": [
      "Train Loss: 0.2809 | Train Accuracy: 87.88%\n",
      "\n",
      "35\n"
     ]
    },
    {
     "name": "stderr",
     "output_type": "stream",
     "text": [
      " 72%|███████▏  | 36/50 [04:03<01:34,  6.73s/it]"
     ]
    },
    {
     "name": "stdout",
     "output_type": "stream",
     "text": [
      "Train Loss: 0.2860 | Train Accuracy: 88.28%\n",
      "\n",
      "36\n"
     ]
    },
    {
     "name": "stderr",
     "output_type": "stream",
     "text": [
      " 74%|███████▍  | 37/50 [04:10<01:28,  6.77s/it]"
     ]
    },
    {
     "name": "stdout",
     "output_type": "stream",
     "text": [
      "Train Loss: 0.2749 | Train Accuracy: 88.28%\n",
      "\n",
      "37\n"
     ]
    },
    {
     "name": "stderr",
     "output_type": "stream",
     "text": [
      " 76%|███████▌  | 38/50 [04:16<01:21,  6.77s/it]"
     ]
    },
    {
     "name": "stdout",
     "output_type": "stream",
     "text": [
      "Train Loss: 0.2152 | Train Accuracy: 92.08%\n",
      "\n",
      "38\n"
     ]
    },
    {
     "name": "stderr",
     "output_type": "stream",
     "text": [
      " 78%|███████▊  | 39/50 [04:23<01:14,  6.77s/it]"
     ]
    },
    {
     "name": "stdout",
     "output_type": "stream",
     "text": [
      "Train Loss: 0.2506 | Train Accuracy: 89.68%\n",
      "\n",
      "39\n"
     ]
    },
    {
     "name": "stderr",
     "output_type": "stream",
     "text": [
      " 80%|████████  | 40/50 [04:30<01:07,  6.76s/it]"
     ]
    },
    {
     "name": "stdout",
     "output_type": "stream",
     "text": [
      "Train Loss: 0.2611 | Train Accuracy: 88.38%\n",
      "\n",
      "40\n"
     ]
    },
    {
     "name": "stderr",
     "output_type": "stream",
     "text": [
      " 82%|████████▏ | 41/50 [04:37<01:00,  6.76s/it]"
     ]
    },
    {
     "name": "stdout",
     "output_type": "stream",
     "text": [
      "Train Loss: 0.2484 | Train Accuracy: 89.48%\n",
      "\n",
      "41\n"
     ]
    },
    {
     "name": "stderr",
     "output_type": "stream",
     "text": [
      " 84%|████████▍ | 42/50 [04:43<00:53,  6.74s/it]"
     ]
    },
    {
     "name": "stdout",
     "output_type": "stream",
     "text": [
      "Train Loss: 0.2571 | Train Accuracy: 89.08%\n",
      "\n",
      "42\n"
     ]
    },
    {
     "name": "stderr",
     "output_type": "stream",
     "text": [
      " 86%|████████▌ | 43/50 [04:50<00:47,  6.74s/it]"
     ]
    },
    {
     "name": "stdout",
     "output_type": "stream",
     "text": [
      "Train Loss: 0.2248 | Train Accuracy: 90.78%\n",
      "\n",
      "43\n"
     ]
    },
    {
     "name": "stderr",
     "output_type": "stream",
     "text": [
      " 88%|████████▊ | 44/50 [04:57<00:40,  6.77s/it]"
     ]
    },
    {
     "name": "stdout",
     "output_type": "stream",
     "text": [
      "Train Loss: 0.2481 | Train Accuracy: 89.18%\n",
      "\n",
      "44\n"
     ]
    },
    {
     "name": "stderr",
     "output_type": "stream",
     "text": [
      " 90%|█████████ | 45/50 [05:04<00:33,  6.74s/it]"
     ]
    },
    {
     "name": "stdout",
     "output_type": "stream",
     "text": [
      "Train Loss: 0.2331 | Train Accuracy: 90.28%\n",
      "\n",
      "45\n"
     ]
    },
    {
     "name": "stderr",
     "output_type": "stream",
     "text": [
      " 92%|█████████▏| 46/50 [05:10<00:26,  6.73s/it]"
     ]
    },
    {
     "name": "stdout",
     "output_type": "stream",
     "text": [
      "Train Loss: 0.2339 | Train Accuracy: 89.68%\n",
      "\n",
      "46\n"
     ]
    },
    {
     "name": "stderr",
     "output_type": "stream",
     "text": [
      " 94%|█████████▍| 47/50 [05:17<00:20,  6.78s/it]"
     ]
    },
    {
     "name": "stdout",
     "output_type": "stream",
     "text": [
      "Train Loss: 0.2044 | Train Accuracy: 91.68%\n",
      "\n",
      "47\n"
     ]
    },
    {
     "name": "stderr",
     "output_type": "stream",
     "text": [
      " 96%|█████████▌| 48/50 [05:24<00:13,  6.81s/it]"
     ]
    },
    {
     "name": "stdout",
     "output_type": "stream",
     "text": [
      "Train Loss: 0.2130 | Train Accuracy: 91.48%\n",
      "\n",
      "48\n"
     ]
    },
    {
     "name": "stderr",
     "output_type": "stream",
     "text": [
      " 98%|█████████▊| 49/50 [05:31<00:06,  6.79s/it]"
     ]
    },
    {
     "name": "stdout",
     "output_type": "stream",
     "text": [
      "Train Loss: 0.2012 | Train Accuracy: 91.08%\n",
      "\n",
      "49\n"
     ]
    },
    {
     "name": "stderr",
     "output_type": "stream",
     "text": [
      "100%|██████████| 50/50 [05:38<00:00,  6.76s/it]"
     ]
    },
    {
     "name": "stdout",
     "output_type": "stream",
     "text": [
      "Train Loss: 0.2275 | Train Accuracy: 89.98%\n",
      "\n"
     ]
    },
    {
     "name": "stderr",
     "output_type": "stream",
     "text": [
      "\n"
     ]
    }
   ],
   "source": [
    "epochs = 50\n",
    "\n",
    "losses = train(train_loader, mymodel, optimizer, criterion, epochs)"
   ]
  },
  {
   "cell_type": "code",
   "execution_count": 106,
   "metadata": {},
   "outputs": [
    {
     "data": {
      "text/plain": [
       "[<matplotlib.lines.Line2D at 0x7c0c6d4ac5e0>]"
      ]
     },
     "execution_count": 106,
     "metadata": {},
     "output_type": "execute_result"
    },
    {
     "data": {
      "image/png": "[encoded data removed]",
      "text/plain": [
       "<Figure size 640x480 with 1 Axes>"
      ]
     },
     "metadata": {},
     "output_type": "display_data"
    }
   ],
   "source": [
    "from matplotlib import pyplot as plt \n",
    "\n",
    "\n",
    "plt.plot(np.arange(len(losses)), losses, label='Loss Plot', color='blue')"
   ]
  },
  {
   "cell_type": "code",
   "execution_count": 107,
   "metadata": {},
   "outputs": [],
   "source": [
    "def calculate_accuracy(model, dataloader):\n",
    "    correct = 0\n",
    "    total = 0\n",
    "\n",
    "    with torch.no_grad():  # We don't need gradients for evaluation\n",
    "        for images, labels in dataloader:\n",
    "            images, labels = images.to(device), labels.to(device)\n",
    "            outputs = model(images)  # Get model predictions\n",
    "            _, predicted = torch.max(outputs, 1)  # Get the class with the highest score\n",
    "            total += labels.size(0)  # Increment the total number of samples\n",
    "            correct += (predicted == labels).sum().item()  # Count correct predictions\n",
    "\n",
    "    accuracy = 100 * correct / total  # Accuracy as a percentage\n",
    "    return accuracy\n"
   ]
  },
  {
   "cell_type": "code",
   "execution_count": 108,
   "metadata": {},
   "outputs": [
    {
     "name": "stdout",
     "output_type": "stream",
     "text": [
      "Test Accuracy: 31.20%\n"
     ]
    }
   ],
   "source": [
    "accuracy = calculate_accuracy(mymodel, test_loader)\n",
    "print(f'Test Accuracy: {accuracy:.2f}%')\n"
   ]
  }
 ],
 "metadata": {
  "colab": {
   "provenance": []
  },
  "kernelspec": {
   "display_name": "Python 3 (ipykernel)",
   "language": "python",
   "name": "python3"
  },
  "language_info": {
   "codemirror_mode": {
    "name": "ipython",
    "version": 3
   },
   "file_extension": ".py",
   "mimetype": "text/x-python",
   "name": "python",
   "nbconvert_exporter": "python",
   "pygments_lexer": "ipython3",
   "version": "3.10.12"
  }
 },
 "nbformat": 4,
 "nbformat_minor": 4
}
